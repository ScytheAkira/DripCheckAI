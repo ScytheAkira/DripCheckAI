{
 "cells": [
  {
   "cell_type": "markdown",
   "metadata": {},
   "source": [
    "if your existing dataset is in csv format, you can convert it to mongodb using following python script"
   ]
  },
  {
   "cell_type": "code",
   "execution_count": 1,
   "metadata": {},
   "outputs": [],
   "source": [
    "import csv\n",
    "from pymongo import MongoClient\n",
    "\n",
    "# Function to read CSV file and convert it to a list of dictionaries\n",
    "def read_csv(filename):\n",
    "    data = []\n",
    "    with open(filename, 'r') as file:\n",
    "        reader = csv.DictReader(file)\n",
    "        for row in reader:\n",
    "            data.append(dict(row))\n",
    "    return data\n",
    "\n",
    "# Function to insert data into MongoDB\n",
    "def insert_into_mongodb(data, collection_name):\n",
    "    client = MongoClient('mongodb://localhost:27017/')  # Connect to MongoDB\n",
    "    db = client['dripcheck']  # Specify your database name\n",
    "    collection = db[collection_name]  # Specify your collection name\n",
    "    collection.insert_many(data)  # Insert data into collection\n",
    "\n",
    "# Replace 'your_csv_file.csv' with your CSV file name and 'your_collection_name' with the desired collection name\n",
    "csv_data = read_csv('processed_dataset.csv')\n",
    "insert_into_mongodb(csv_data, 'products')\n"
   ]
  },
  {
   "cell_type": "markdown",
   "metadata": {},
   "source": [
    "as mongodb already provides an id to products, i removed the ids that i assigned to them via this code:"
   ]
  },
  {
   "cell_type": "code",
   "execution_count": 1,
   "metadata": {},
   "outputs": [
    {
     "name": "stdout",
     "output_type": "stream",
     "text": [
      "Modified 3180 documents to remove the 'id' field.\n"
     ]
    }
   ],
   "source": [
    "from pymongo import MongoClient\n",
    "\n",
    "# Replace the following with your MongoDB connection details\n",
    "MONGO_URI = \"mongodb://localhost:27017/\"\n",
    "DATABASE_NAME = \"dripcheck\"\n",
    "COLLECTION_NAME = \"products\"\n",
    "\n",
    "# Connect to MongoDB\n",
    "client = MongoClient(MONGO_URI)\n",
    "db = client[DATABASE_NAME]\n",
    "collection = db[COLLECTION_NAME]\n",
    "\n",
    "# Use the update_many method with $unset to remove the \"id\" field\n",
    "result = collection.update_many({}, {\"$unset\": {\"id\": \"\"}})\n",
    "\n",
    "# Print the result\n",
    "print(f\"Modified {result.modified_count} documents to remove the 'id' field.\")\n",
    "\n",
    "# Close the connection\n",
    "client.close()\n"
   ]
  },
  {
   "cell_type": "markdown",
   "metadata": {},
   "source": [
    "Now there's another problem with our database, the price and the year are in string, we want to convert them to integer:"
   ]
  },
  {
   "cell_type": "code",
   "execution_count": 4,
   "metadata": {},
   "outputs": [
    {
     "name": "stdout",
     "output_type": "stream",
     "text": [
      "Modified 3180 documents to convert 'price' to numeric.\n",
      "Modified 3180 documents to convert 'year' to numeric.\n"
     ]
    }
   ],
   "source": [
    "from pymongo import MongoClient\n",
    "\n",
    "# Replace the following with your MongoDB connection details\n",
    "MONGO_URI = \"mongodb://localhost:27017/\"\n",
    "DATABASE_NAME = \"dripcheck\"\n",
    "COLLECTION_NAME = \"products\"\n",
    "\n",
    "# Connect to MongoDB\n",
    "client = MongoClient(MONGO_URI)\n",
    "db = client[DATABASE_NAME]\n",
    "collection = db[COLLECTION_NAME]\n",
    "\n",
    "# Update price to numeric data type (float)\n",
    "result_price = collection.update_many({}, [{\"$set\": {\"price\": {\"$convert\": {\"input\": \"$price\", \"to\": \"double\", \"onError\": 0}}}}])\n",
    "\n",
    "# Update year to numeric data type (integer)\n",
    "result_year = collection.update_many({}, [{\"$set\": {\"year\": {\"$toInt\": \"$year\"}}}])\n",
    "\n",
    "# Print the result\n",
    "print(f\"Modified {result_price.modified_count} documents to convert 'price' to numeric.\")\n",
    "print(f\"Modified {result_year.modified_count} documents to convert 'year' to numeric.\")\n",
    "\n",
    "# Close the connection\n",
    "client.close()"
   ]
  },
  {
   "cell_type": "markdown",
   "metadata": {},
   "source": [
    "we can also extract the values of masterCategory, subCategory and articleType in txt file from code down below:"
   ]
  },
  {
   "cell_type": "code",
   "execution_count": 5,
   "metadata": {},
   "outputs": [],
   "source": [
    "from pymongo import MongoClient\n",
    "\n",
    "# Replace the following with your MongoDB connection details\n",
    "MONGO_URI = \"mongodb://localhost:27017/\"\n",
    "DATABASE_NAME = \"dripcheck\"\n",
    "COLLECTION_NAME = \"products\"\n",
    "\n",
    "# Connect to MongoDB\n",
    "client = MongoClient(MONGO_URI)\n",
    "db = client[DATABASE_NAME]\n",
    "collection = db[COLLECTION_NAME]\n",
    "\n",
    "# Get distinct values for the required fields\n",
    "master_categories = collection.distinct(\"masterCategory\")\n",
    "sub_categories = collection.distinct(\"subCategory\")\n",
    "article_types = collection.distinct(\"articleType\")\n",
    "\n",
    "# Write the distinct values to a text file\n",
    "with open('categories.txt', 'w') as file:\n",
    "    file.write(\"Master Categories:\\n\")\n",
    "    for item in master_categories:\n",
    "        file.write(f\"{item}\\n\")\n",
    "    \n",
    "    file.write(\"\\nSub Categories:\\n\")\n",
    "    for item in sub_categories:\n",
    "        file.write(f\"{item}\\n\")\n",
    "    \n",
    "    file.write(\"\\nArticle Types:\\n\")\n",
    "    for item in article_types:\n",
    "        file.write(f\"{item}\\n\")\n",
    "\n",
    "# Close the connection\n",
    "client.close()\n"
   ]
  },
  {
   "cell_type": "code",
   "execution_count": 6,
   "metadata": {},
   "outputs": [],
   "source": [
    "from pymongo import MongoClient\n",
    "from bson.objectid import ObjectId\n",
    "\n",
    "# Replace the following with your MongoDB connection details\n",
    "MONGO_URI = \"mongodb://localhost:27017/\"\n",
    "DATABASE_NAME = \"dripcheck\"\n",
    "PRODUCTS_COLLECTION_NAME = \"products\"\n",
    "CATEGORY_COLLECTION_NAME = \"categories\"\n",
    "\n",
    "# Connect to MongoDB\n",
    "client = MongoClient(MONGO_URI)\n",
    "db = client[DATABASE_NAME]\n",
    "products_collection = db[PRODUCTS_COLLECTION_NAME]\n",
    "category_collection = db[CATEGORY_COLLECTION_NAME]\n",
    "\n",
    "# Helper function to get or create a category and return its ObjectId\n",
    "def get_or_create_category(name):\n",
    "    category = category_collection.find_one({\"name\": name})\n",
    "    if not category:\n",
    "        result = category_collection.insert_one({\"name\": name})\n",
    "        return result.inserted_id\n",
    "    return category[\"_id\"]\n",
    "\n",
    "# Get distinct categories\n",
    "master_categories = products_collection.distinct(\"masterCategory\")\n",
    "sub_categories = products_collection.distinct(\"subCategory\")\n",
    "\n",
    "# Ensure all distinct categories are present in the Category collection\n",
    "master_category_ids = {name: get_or_create_category(name) for name in master_categories}\n",
    "sub_category_ids = {name: get_or_create_category(name) for name in sub_categories}\n",
    "\n",
    "# Update the products collection with ObjectId references for masterCategory and subCategory\n",
    "for product in products_collection.find():\n",
    "    master_category_id = master_category_ids.get(product[\"masterCategory\"])\n",
    "    sub_category_id = sub_category_ids.get(product[\"subCategory\"])\n",
    "    \n",
    "    products_collection.update_one(\n",
    "        {\"_id\": product[\"_id\"]},\n",
    "        {\"$set\": {\n",
    "            \"masterCategory\": master_category_id,\n",
    "            \"subCategory\": sub_category_id\n",
    "        }}\n",
    "    )\n",
    "\n",
    "# Close the connection\n",
    "client.close()\n"
   ]
  }
 ],
 "metadata": {
  "kernelspec": {
   "display_name": "Python 3",
   "language": "python",
   "name": "python3"
  },
  "language_info": {
   "codemirror_mode": {
    "name": "ipython",
    "version": 3
   },
   "file_extension": ".py",
   "mimetype": "text/x-python",
   "name": "python",
   "nbconvert_exporter": "python",
   "pygments_lexer": "ipython3",
   "version": "3.12.1"
  }
 },
 "nbformat": 4,
 "nbformat_minor": 2
}

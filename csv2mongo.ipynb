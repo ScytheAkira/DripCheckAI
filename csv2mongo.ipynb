{
 "cells": [
  {
   "cell_type": "markdown",
   "metadata": {},
   "source": [
    "if your existing dataset is in csv format, you can convert it to mongodb using following python script"
   ]
  },
  {
   "cell_type": "code",
   "execution_count": 1,
   "metadata": {},
   "outputs": [],
   "source": [
    "import csv\n",
    "from pymongo import MongoClient\n",
    "\n",
    "# Function to read CSV file and convert it to a list of dictionaries\n",
    "def read_csv(filename):\n",
    "    data = []\n",
    "    with open(filename, 'r') as file:\n",
    "        reader = csv.DictReader(file)\n",
    "        for row in reader:\n",
    "            data.append(dict(row))\n",
    "    return data\n",
    "\n",
    "# Function to insert data into MongoDB\n",
    "def insert_into_mongodb(data, collection_name):\n",
    "    client = MongoClient('mongodb://localhost:27017/')  # Connect to MongoDB\n",
    "    db = client['dripcheck']  # Specify your database name\n",
    "    collection = db[collection_name]  # Specify your collection name\n",
    "    collection.insert_many(data)  # Insert data into collection\n",
    "\n",
    "# Replace 'your_csv_file.csv' with your CSV file name and 'your_collection_name' with the desired collection name\n",
    "csv_data = read_csv('processed_dataset.csv')\n",
    "insert_into_mongodb(csv_data, 'products')\n"
   ]
  }
 ],
 "metadata": {
  "kernelspec": {
   "display_name": "Python 3",
   "language": "python",
   "name": "python3"
  },
  "language_info": {
   "codemirror_mode": {
    "name": "ipython",
    "version": 3
   },
   "file_extension": ".py",
   "mimetype": "text/x-python",
   "name": "python",
   "nbconvert_exporter": "python",
   "pygments_lexer": "ipython3",
   "version": "3.12.1"
  }
 },
 "nbformat": 4,
 "nbformat_minor": 2
}

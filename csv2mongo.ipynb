{
 "cells": [
  {
   "cell_type": "code",
   "execution_count": null,
   "metadata": {},
   "outputs": [],
   "source": [
    "import csv\n",
    "from pymongo import MongoClient\n",
    "\n",
    "# Function to read CSV file and convert it to a list of dictionaries\n",
    "def read_csv(filename):\n",
    "    data = []\n",
    "    with open(filename, 'r') as file:\n",
    "        reader = csv.DictReader(file)\n",
    "        for row in reader:\n",
    "            data.append(dict(row))\n",
    "    return data\n",
    "\n",
    "# Function to insert data into MongoDB\n",
    "def insert_into_mongodb(data, collection_name):\n",
    "    client = MongoClient('mongodb://localhost:27017/')  # Connect to MongoDB\n",
    "    db = client['dripcheck']  # Specify your database name\n",
    "    collection = db[collection_name]  # Specify your collection name\n",
    "    collection.insert_many(data)  # Insert data into collection\n",
    "\n",
    "# Replace 'your_csv_file.csv' with your CSV file name and 'your_collection_name' with the desired collection name\n",
    "csv_data = read_csv('processed_dataset.csv')\n",
    "insert_into_mongodb(csv_data, 'products')\n"
   ]
  }
 ],
 "metadata": {
  "language_info": {
   "name": "python"
  }
 },
 "nbformat": 4,
 "nbformat_minor": 2
}
